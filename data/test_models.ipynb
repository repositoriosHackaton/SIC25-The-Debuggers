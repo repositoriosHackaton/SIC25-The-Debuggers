{
 "cells": [
  {
   "cell_type": "code",
   "execution_count": 4,
   "metadata": {},
   "outputs": [],
   "source": [
    "import tensorflow as tf\n",
    "import pandas as pd\n",
    "import numpy as np\n",
    "import matplotlib.pyplot as plt\n",
    "import cv2\n",
    "import os\n",
    "from sklearn.metrics import accuracy_score, confusion_matrix, classification_report\n",
    "\n",
    "modelo_1 = tf.keras.models.load_model('../ecg_project/ecg_cnn.keras')\n",
    "modelo_2 = tf.keras.models.load_model('../ecg_project/modelo_pre_entrenado_ecg.keras')"
   ]
  },
  {
   "cell_type": "code",
   "execution_count": 5,
   "metadata": {},
   "outputs": [
    {
     "name": "stdout",
     "output_type": "stream",
     "text": [
      "\u001b[1m85/85\u001b[0m \u001b[32m━━━━━━━━━━━━━━━━━━━━\u001b[0m\u001b[37m\u001b[0m \u001b[1m211s\u001b[0m 2s/step\n",
      "\u001b[1m85/85\u001b[0m \u001b[32m━━━━━━━━━━━━━━━━━━━━\u001b[0m\u001b[37m\u001b[0m \u001b[1m741s\u001b[0m 9s/step\n"
     ]
    }
   ],
   "source": [
    "df = pd.read_csv(\"data_imagenes_test.csv\")\n",
    "\n",
    "def cargar_imagen(ruta, modelo_tipo):\n",
    "    if modelo_tipo == \"grayscale\":\n",
    "        imagen = cv2.imread(ruta, cv2.IMREAD_GRAYSCALE)\n",
    "        imagen = cv2.resize(imagen, (224, 224))\n",
    "        imagen = np.expand_dims(imagen, axis=-1)\n",
    "    else:\n",
    "        imagen = cv2.imread(ruta, cv2.IMREAD_COLOR)\n",
    "        imagen = cv2.resize(imagen, (224, 224))\n",
    "    \n",
    "    imagen = imagen / 255.0\n",
    "    return imagen\n",
    "\n",
    "\n",
    "X_test_gray = np.array([cargar_imagen(path, \"grayscale\") for path in df['image_path']])\n",
    "X_test_rgb = np.array([cargar_imagen(path, \"rgb\") for path in df['image_path']])\n",
    "y_test = df['label'].values\n",
    "\n",
    "\n",
    "y_pred_1 = np.argmax(modelo_1.predict(X_test_gray), axis=1)\n",
    "y_pred_2 = np.argmax(modelo_2.predict(X_test_rgb), axis=1)"
   ]
  },
  {
   "cell_type": "code",
   "execution_count": 6,
   "metadata": {},
   "outputs": [
    {
     "name": "stdout",
     "output_type": "stream",
     "text": [
      "Precisión Modelo Propio: 0.7774098601913172\n",
      "Precisión Modelo Preentrenado: 0.8395879323031641\n"
     ]
    },
    {
     "data": {
      "image/png": "[encoded data removed]",
      "text/plain": [
       "<Figure size 1200x500 with 2 Axes>"
      ]
     },
     "metadata": {},
     "output_type": "display_data"
    },
    {
     "name": "stdout",
     "output_type": "stream",
     "text": [
      "Reporte Modelo 1:\n",
      "              precision    recall  f1-score   support\n",
      "\n",
      "         0.0       0.79      0.77      0.78      1000\n",
      "         1.0       0.86      0.58      0.70       556\n",
      "         2.0       0.73      0.95      0.83      1000\n",
      "         3.0       0.94      0.38      0.54       162\n",
      "\n",
      "    accuracy                           0.78      2718\n",
      "   macro avg       0.83      0.67      0.71      2718\n",
      "weighted avg       0.79      0.78      0.77      2718\n",
      "\n",
      "Reporte Modelo 2:\n",
      "              precision    recall  f1-score   support\n",
      "\n",
      "         0.0       0.76      0.93      0.83      1000\n",
      "         1.0       0.89      0.64      0.74       556\n",
      "         2.0       0.91      0.91      0.91      1000\n",
      "         3.0       0.93      0.56      0.69       162\n",
      "\n",
      "    accuracy                           0.84      2718\n",
      "   macro avg       0.87      0.76      0.80      2718\n",
      "weighted avg       0.85      0.84      0.84      2718\n",
      "\n"
     ]
    }
   ],
   "source": [
    "accuracy_1 = accuracy_score(y_test, y_pred_1)\n",
    "accuracy_2 = accuracy_score(y_test, y_pred_2)\n",
    "\n",
    "print(\"Precisión Modelo Propio:\", accuracy_1)\n",
    "print(\"Precisión Modelo Preentrenado:\", accuracy_2)\n",
    "\n",
    "fig, axes = plt.subplots(1, 2, figsize=(12, 5))\n",
    "\n",
    "cm_1 = confusion_matrix(y_test, y_pred_1)\n",
    "cm_2 = confusion_matrix(y_test, y_pred_2)\n",
    "\n",
    "axes[0].imshow(cm_1, cmap='Blues')\n",
    "axes[0].set_title(\"Matriz de Confusión - Modelo Propio\")\n",
    "axes[1].imshow(cm_2, cmap='Blues')\n",
    "axes[1].set_title(\"Matriz de Confusión - Modelo Preentrenado\")\n",
    "\n",
    "plt.show()\n",
    "\n",
    "print(\"Reporte Modelo 1:\")\n",
    "print(classification_report(y_test, y_pred_1))\n",
    "print(\"Reporte Modelo 2:\")\n",
    "print(classification_report(y_test, y_pred_2))"
   ]
  }
 ],
 "metadata": {
  "kernelspec": {
   "display_name": "Python 3",
   "language": "python",
   "name": "python3"
  },
  "language_info": {
   "codemirror_mode": {
    "name": "ipython",
    "version": 3
   },
   "file_extension": ".py",
   "mimetype": "text/x-python",
   "name": "python",
   "nbconvert_exporter": "python",
   "pygments_lexer": "ipython3",
   "version": "3.10.0"
  }
 },
 "nbformat": 4,
 "nbformat_minor": 2
}
