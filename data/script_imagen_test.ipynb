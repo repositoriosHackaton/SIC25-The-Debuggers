{
 "cells": [
  {
   "cell_type": "code",
   "execution_count": 2,
   "metadata": {},
   "outputs": [
    {
     "name": "stdout",
     "output_type": "stream",
     "text": [
      "                        image_path  label\n",
      "0  imagenes_ecg_test\\0.0\\ecg_0.png    0.0\n",
      "1  imagenes_ecg_test\\0.0\\ecg_1.png    0.0\n",
      "2  imagenes_ecg_test\\0.0\\ecg_2.png    0.0\n",
      "3  imagenes_ecg_test\\0.0\\ecg_3.png    0.0\n",
      "4  imagenes_ecg_test\\0.0\\ecg_4.png    0.0\n"
     ]
    }
   ],
   "source": [
    "import pandas as pd\n",
    "import matplotlib.pyplot as plt\n",
    "import os\n",
    "\n",
    "csv_path = 'mitbih_test.csv'\n",
    "df = pd.read_csv(csv_path, header=None)\n",
    "\n",
    "num_columnas = df.shape[1]\n",
    "etiqueta_col = num_columnas - 1\n",
    "\n",
    "output_dir = \"imagenes_ecg_test\"\n",
    "os.makedirs(output_dir, exist_ok=True)\n",
    "\n",
    "categoria_contador = {}\n",
    "\n",
    "limite_imagenes = 1000\n",
    "\n",
    "datos_imagenes = []\n",
    "\n",
    "for idx, row in df.iterrows():\n",
    "    signal = row.iloc[:-1].astype(float).values\n",
    "    label = row.iloc[etiqueta_col]\n",
    "\n",
    "    if label == 4:\n",
    "        continue\n",
    "    \n",
    "    if label not in categoria_contador:\n",
    "        categoria_contador[label] = 0\n",
    "    \n",
    "    if categoria_contador[label] >= limite_imagenes:\n",
    "        continue\n",
    "    \n",
    "    categoria_contador[label] += 1\n",
    "    \n",
    "    class_dir = os.path.join(output_dir, str(label))\n",
    "    os.makedirs(class_dir, exist_ok=True)\n",
    "\n",
    "    filename = f\"ecg_{idx}.png\"\n",
    "    filepath = os.path.join(class_dir, filename)\n",
    "    \n",
    "    # Crear la gráfica de la señal\n",
    "    plt.figure(figsize=(4, 4))\n",
    "    plt.plot(signal, color='black')\n",
    "    plt.axis('off') \n",
    "    plt.tight_layout(pad=0)\n",
    "    \n",
    "    plt.savefig(filepath, bbox_inches='tight', pad_inches=0)\n",
    "    plt.close()\n",
    "    \n",
    "    datos_imagenes.append({'image_path': filepath, 'label': label})\n",
    "\n",
    "df_imagenes = pd.DataFrame(datos_imagenes)\n",
    "\n",
    "df_imagenes.to_csv(\"data_imagenes_test.csv\", index=False)\n",
    "\n",
    "print(df_imagenes.head())"
   ]
  }
 ],
 "metadata": {
  "kernelspec": {
   "display_name": "Python 3",
   "language": "python",
   "name": "python3"
  },
  "language_info": {
   "codemirror_mode": {
    "name": "ipython",
    "version": 3
   },
   "file_extension": ".py",
   "mimetype": "text/x-python",
   "name": "python",
   "nbconvert_exporter": "python",
   "pygments_lexer": "ipython3",
   "version": "3.10.0"
  }
 },
 "nbformat": 4,
 "nbformat_minor": 2
}
