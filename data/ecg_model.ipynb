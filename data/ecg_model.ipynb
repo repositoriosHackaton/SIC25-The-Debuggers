{
 "cells": [
  {
   "cell_type": "code",
   "execution_count": 7,
   "metadata": {},
   "outputs": [],
   "source": [
    "import tensorflow as tf\n",
    "import pandas as pd\n",
    "import numpy as np\n",
    "import os\n",
    "import cv2\n",
    "from tensorflow.keras import layers, models\n",
    "from sklearn.model_selection import train_test_split\n",
    "from tensorflow.keras.preprocessing.image import ImageDataGenerator\n",
    "from tensorflow.keras.callbacks import EarlyStopping"
   ]
  },
  {
   "cell_type": "code",
   "execution_count": null,
   "metadata": {},
   "outputs": [
    {
     "name": "stdout",
     "output_type": "stream",
     "text": [
      "Datos filtrados correctamente. Nuevas clases: [0. 1. 2. 3.]\n"
     ]
    }
   ],
   "source": [
    "df_datos = pd.read_csv('data_imagenes.csv')\n",
    "df_filtrado = df_datos[df_datos[\"label\"] != 4.0]\n",
    "\n",
    "print(\"Datos filtrados correctamente. Nuevas clases:\", df_filtrado[\"label\"].unique())\n",
    "image_paths = df_datos['image_path'].values\n",
    "labels = df_datos['label'].values"
   ]
  },
  {
   "cell_type": "code",
   "execution_count": 9,
   "metadata": {},
   "outputs": [],
   "source": [
    "IMG_SIZE = (224, 224)\n",
    "NUM_CLASSES = 4\n",
    "\n",
    "df_train, df_test = train_test_split(df_filtrado, test_size=0.2, stratify=df_filtrado['label'], random_state=42)"
   ]
  },
  {
   "cell_type": "code",
   "execution_count": 10,
   "metadata": {},
   "outputs": [],
   "source": [
    "train_datagen = ImageDataGenerator(\n",
    "    rescale=1./255,\n",
    "    rotation_range=20,\n",
    "    zoom_range=0.2,       \n",
    "    horizontal_flip=True,       \n",
    "    fill_mode='nearest'     \n",
    ")\n",
    "\n",
    "test_datagen = ImageDataGenerator(rescale=1./255)"
   ]
  },
  {
   "cell_type": "code",
   "execution_count": 11,
   "metadata": {},
   "outputs": [
    {
     "name": "stdout",
     "output_type": "stream",
     "text": [
      "Found 12521 validated image filenames belonging to 4 classes.\n",
      "Found 3131 validated image filenames belonging to 4 classes.\n"
     ]
    }
   ],
   "source": [
    "df_train['label'] = df_train['label'].astype(str)\n",
    "df_test['label'] = df_test['label'].astype(str)\n",
    "\n",
    "train_generator = train_datagen.flow_from_dataframe(\n",
    "    dataframe=df_train,\n",
    "    x_col='image_path',\n",
    "    y_col='label',\n",
    "    target_size=IMG_SIZE,\n",
    "    batch_size=8,\n",
    "    class_mode='categorical',\n",
    "    color_mode='grayscale',\n",
    "    shuffle=True\n",
    ")\n",
    "\n",
    "test_generator = test_datagen.flow_from_dataframe(\n",
    "    dataframe=df_test,\n",
    "    x_col='image_path',\n",
    "    y_col='label',\n",
    "    target_size=IMG_SIZE,\n",
    "    batch_size=16,\n",
    "    class_mode='categorical',\n",
    "    color_mode='grayscale',\n",
    "    shuffle=False\n",
    ")"
   ]
  },
  {
   "cell_type": "code",
   "execution_count": 14,
   "metadata": {},
   "outputs": [],
   "source": [
    "def create_model():\n",
    "    model = models.Sequential([\n",
    "        layers.Input(shape=(IMG_SIZE[0], IMG_SIZE[1], 1)),\n",
    "        \n",
    "        layers.Conv2D(64, (3, 3), activation='relu'),\n",
    "        layers.BatchNormalization(),\n",
    "        layers.Conv2D(64, (3, 3), activation='relu'),\n",
    "        layers.MaxPooling2D((2, 2)),\n",
    "        layers.Dropout(0.25),\n",
    "        \n",
    "        layers.Conv2D(128, (3, 3), activation='relu'),\n",
    "        layers.BatchNormalization(),\n",
    "        layers.Conv2D(128, (3, 3), activation='relu'),\n",
    "        layers.MaxPooling2D((2, 2)),\n",
    "        layers.Dropout(0.25),\n",
    "        \n",
    "        layers.Flatten(),\n",
    "        \n",
    "        layers.Dense(NUM_CLASSES, activation='softmax')\n",
    "    ])\n",
    "    \n",
    "    model.compile(optimizer=tf.keras.optimizers.Adam(learning_rate=0.0001), \n",
    "                  loss='categorical_crossentropy', \n",
    "                  metrics=['accuracy'])\n",
    "    \n",
    "    return model"
   ]
  },
  {
   "cell_type": "code",
   "execution_count": 15,
   "metadata": {},
   "outputs": [
    {
     "name": "stdout",
     "output_type": "stream",
     "text": [
      "Epoch 1/15\n",
      "\u001b[1m1566/1566\u001b[0m \u001b[32m━━━━━━━━━━━━━━━━━━━━\u001b[0m\u001b[37m\u001b[0m \u001b[1m5032s\u001b[0m 3s/step - accuracy: 0.5445 - loss: 1.9682 - val_accuracy: 0.6589 - val_loss: 0.8433\n",
      "Epoch 2/15\n",
      "\u001b[1m1566/1566\u001b[0m \u001b[32m━━━━━━━━━━━━━━━━━━━━\u001b[0m\u001b[37m\u001b[0m \u001b[1m4825s\u001b[0m 3s/step - accuracy: 0.6807 - loss: 0.8297 - val_accuracy: 0.6717 - val_loss: 0.8008\n",
      "Epoch 3/15\n",
      "\u001b[1m1566/1566\u001b[0m \u001b[32m━━━━━━━━━━━━━━━━━━━━\u001b[0m\u001b[37m\u001b[0m \u001b[1m4856s\u001b[0m 3s/step - accuracy: 0.7375 - loss: 0.6971 - val_accuracy: 0.7985 - val_loss: 0.5684\n",
      "Epoch 4/15\n",
      "\u001b[1m1566/1566\u001b[0m \u001b[32m━━━━━━━━━━━━━━━━━━━━\u001b[0m\u001b[37m\u001b[0m \u001b[1m4907s\u001b[0m 3s/step - accuracy: 0.7640 - loss: 0.6426 - val_accuracy: 0.8068 - val_loss: 0.5211\n",
      "Epoch 5/15\n",
      "\u001b[1m1566/1566\u001b[0m \u001b[32m━━━━━━━━━━━━━━━━━━━━\u001b[0m\u001b[37m\u001b[0m \u001b[1m4864s\u001b[0m 3s/step - accuracy: 0.7709 - loss: 0.6177 - val_accuracy: 0.8208 - val_loss: 0.4851\n",
      "Epoch 6/15\n",
      "\u001b[1m1566/1566\u001b[0m \u001b[32m━━━━━━━━━━━━━━━━━━━━\u001b[0m\u001b[37m\u001b[0m \u001b[1m4903s\u001b[0m 3s/step - accuracy: 0.7810 - loss: 0.5912 - val_accuracy: 0.8438 - val_loss: 0.4683\n",
      "Epoch 7/15\n",
      "\u001b[1m1566/1566\u001b[0m \u001b[32m━━━━━━━━━━━━━━━━━━━━\u001b[0m\u001b[37m\u001b[0m \u001b[1m14477s\u001b[0m 9s/step - accuracy: 0.8039 - loss: 0.5562 - val_accuracy: 0.8473 - val_loss: 0.4756\n",
      "Epoch 8/15\n",
      "\u001b[1m1566/1566\u001b[0m \u001b[32m━━━━━━━━━━━━━━━━━━━━\u001b[0m\u001b[37m\u001b[0m \u001b[1m4979s\u001b[0m 3s/step - accuracy: 0.8072 - loss: 0.5624 - val_accuracy: 0.8403 - val_loss: 0.4442\n",
      "Epoch 8: early stopping\n",
      "Restoring model weights from the end of the best epoch: 7.\n"
     ]
    },
    {
     "data": {
      "text/plain": [
       "<keras.src.callbacks.history.History at 0x1b348ec5360>"
      ]
     },
     "execution_count": 15,
     "metadata": {},
     "output_type": "execute_result"
    }
   ],
   "source": [
    "model = create_model()\n",
    "\n",
    "early_stopping = EarlyStopping(monitor='val_accuracy',\n",
    "                               patience=5,\n",
    "                               verbose=1,\n",
    "                               mode='max',\n",
    "                               baseline=0.97,\n",
    "                               restore_best_weights=True)\n",
    "\n",
    "model.fit(train_generator, epochs=15, validation_data=test_generator, callbacks=[early_stopping])"
   ]
  },
  {
   "cell_type": "code",
   "execution_count": 16,
   "metadata": {},
   "outputs": [],
   "source": [
    "model.save(\"ecg_cnn.keras\")"
   ]
  }
 ],
 "metadata": {
  "kernelspec": {
   "display_name": "Python 3",
   "language": "python",
   "name": "python3"
  },
  "language_info": {
   "codemirror_mode": {
    "name": "ipython",
    "version": 3
   },
   "file_extension": ".py",
   "mimetype": "text/x-python",
   "name": "python",
   "nbconvert_exporter": "python",
   "pygments_lexer": "ipython3",
   "version": "3.10.0"
  }
 },
 "nbformat": 4,
 "nbformat_minor": 2
}
